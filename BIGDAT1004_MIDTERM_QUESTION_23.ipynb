{
  "nbformat": 4,
  "nbformat_minor": 0,
  "metadata": {
    "colab": {
      "provenance": []
    },
    "kernelspec": {
      "name": "python3",
      "display_name": "Python 3"
    },
    "language_info": {
      "name": "python"
    }
  },
  "cells": [
    {
      "cell_type": "markdown",
      "source": [
        "#Question 23"
      ],
      "metadata": {
        "id": "Wv2-cQ5oBk3Q"
      }
    },
    {
      "cell_type": "code",
      "execution_count": 4,
      "metadata": {
        "colab": {
          "base_uri": "https://localhost:8080/"
        },
        "id": "qQrNHpaH97YE",
        "outputId": "85d2371c-c1c8-4c56-db5b-f5dc047c8042"
      },
      "outputs": [
        {
          "output_type": "stream",
          "name": "stdout",
          "text": [
            "f(0, 0):\n",
            "\n",
            "f(0, 1):\n",
            "*\n",
            "\n",
            "f(0, 2):\n",
            "*\n",
            "**\n",
            " *\n",
            "\n",
            "f(0, 4):\n",
            "*\n",
            "**\n",
            " *\n",
            "****\n",
            " *\n",
            " **\n",
            "  *\n"
          ]
        }
      ],
      "source": [
        "def tough(indent, num):\n",
        "    if num > 0:  # Base case: Stop recursion when num becomes 0 or negative\n",
        "        tough(indent, num // 2)  # Recursive call for the first half of the pattern\n",
        "        print(\" \" * indent + \"*\" * num)  # Print the current line with appropriate indentation and stars\n",
        "        tough(indent + 1, num // 2)  # Recursive call for the second half of the pattern with increased indentation\n",
        "\n",
        "# Test cases\n",
        "print(\"f(0, 0):\")\n",
        "tough(0, 0)\n",
        "print(\"\\nf(0, 1):\")\n",
        "tough(0, 1)\n",
        "print(\"\\nf(0, 2):\")\n",
        "tough(0, 2)\n",
        "print(\"\\nf(0, 4):\")\n",
        "tough(0, 4)\n"
      ]
    }
  ]
}