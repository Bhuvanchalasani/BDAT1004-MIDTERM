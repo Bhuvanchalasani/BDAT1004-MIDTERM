{
  "nbformat": 4,
  "nbformat_minor": 0,
  "metadata": {
    "colab": {
      "provenance": []
    },
    "kernelspec": {
      "name": "python3",
      "display_name": "Python 3"
    },
    "language_info": {
      "name": "python"
    }
  },
  "cells": [
    {
      "cell_type": "markdown",
      "source": [
        "# **Question 21**"
      ],
      "metadata": {
        "id": "OadxgDSbxzvL"
      }
    },
    {
      "cell_type": "code",
      "execution_count": 33,
      "metadata": {
        "colab": {
          "base_uri": "https://localhost:8080/"
        },
        "id": "T2Ee8I2ln6K7",
        "outputId": "446aec4f-69fb-414f-d3e3-77f2def48da7"
      },
      "outputs": [
        {
          "output_type": "stream",
          "name": "stdout",
          "text": [
            "Length of the segment: 5.0\n",
            "Slope of the segment: 1.3333333333333333\n"
          ]
        }
      ],
      "source": [
        "import math\n",
        "\n",
        "class Point:\n",
        "    def __init__(self, x=0, y=0):\n",
        "        \"\"\"\n",
        "        Initialize a Point object with x and y coordinates.\n",
        "        \"\"\"\n",
        "        self.x = x\n",
        "        self.y = y\n",
        "\n",
        "class Segment:\n",
        "    def __init__(self, p1=None, p2=None):\n",
        "        \"\"\"\n",
        "        Initialize a Segment object with two endpoints (Point objects).\n",
        "        \"\"\"\n",
        "        self.p1 = p1 if p1 else Point()  # Default to Point() if p1 is None\n",
        "        self.p2 = p2 if p2 else Point()  # Default to Point() if p2 is None\n",
        "\n",
        "    def length(self):\n",
        "        \"\"\"\n",
        "        Calculate and return the length of the segment using the Euclidean distance formula.\n",
        "        \"\"\"\n",
        "        dx = self.p2.x - self.p1.x\n",
        "        dy = self.p2.y - self.p1.y\n",
        "        return math.sqrt(dx**2 + dy**2)\n",
        "\n",
        "    def slope(self):\n",
        "        \"\"\"\n",
        "        Calculate and return the slope of the segment.\n",
        "        Returns None if the slope is unbounded (vertical line).\n",
        "        \"\"\"\n",
        "        dx = self.p2.x - self.p1.x\n",
        "        dy = self.p2.y - self.p1.y\n",
        "        if dx != 0:\n",
        "            return dy / dx\n",
        "        else:\n",
        "            return None  # Return None for vertical segments (undefined slope)\n",
        "\n",
        "# Example usage:\n",
        "p1 = Point(3, 4)      # Create Point p1 at (3, 4)\n",
        "p2 = Point(0,0)          # Create Point p2 at the default (0, 0)\n",
        "\n",
        "s = Segment(p1, p2)   # Create Segment s using points p1 and p2\n",
        "\n",
        "# Print the length and slope of segment s\n",
        "print(\"Length of the segment:\", s.length())\n",
        "print(\"Slope of the segment:\", s.slope())\n"
      ]
    },
    {
      "cell_type": "markdown",
      "source": [
        "**The Slope value is diffrent from output in question we can achive given slope by either modifing formulae or number**\n"
      ],
      "metadata": {
        "id": "z_tRH8FjvuxI"
      }
    },
    {
      "cell_type": "code",
      "source": [
        "import math\n",
        "\n",
        "class Point:\n",
        "    def __init__(self, x=0, y=0):\n",
        "        \"\"\"\n",
        "        Initialize a Point object with x and y coordinates.\n",
        "        \"\"\"\n",
        "        self.x = x\n",
        "        self.y = y\n",
        "\n",
        "class Segment:\n",
        "    def __init__(self, p1=None, p2=None):\n",
        "        \"\"\"\n",
        "        Initialize a Segment object with two endpoints (Point objects).\n",
        "        \"\"\"\n",
        "        self.p1 = p1 if p1 else Point()  # Default to Point() if p1 is None\n",
        "        self.p2 = p2 if p2 else Point()  # Default to Point() if p2 is None\n",
        "\n",
        "    def length(self):\n",
        "        \"\"\"\n",
        "        Calculate and return the length of the segment using the Euclidean distance formula.\n",
        "        \"\"\"\n",
        "        dx = self.p2.x - self.p1.x\n",
        "        dy = self.p2.y - self.p1.y\n",
        "        return math.sqrt(dx**2 + dy**2)\n",
        "\n",
        "    def slope(self):\n",
        "        \"\"\"\n",
        "        Calculate and return the slope of the segment.\n",
        "        Returns None if the slope is unbounded (vertical line).\n",
        "        \"\"\"\n",
        "        dx = self.p2.x - self.p1.x\n",
        "        dy = self.p2.y - self.p1.y\n",
        "        if dx != 0:\n",
        "            return dx / dy\n",
        "        else:\n",
        "            return None  # Return None for vertical segments (undefined slope)\n",
        "\n",
        "# Example usage:\n",
        "p1 = Point(3, 4)      # Create Point p1 at (3, 4)\n",
        "p2 = Point(0,0)          # Create Point p2 at the default (0, 0)\n",
        "\n",
        "s = Segment(p1, p2)   # Create Segment s using points p1 and p2\n",
        "\n",
        "# Print the length and slope of segment s\n",
        "print(\"Length of the segment:\", s.length())\n",
        "print(\"Slope of the segment:\", s.slope())\n"
      ],
      "metadata": {
        "colab": {
          "base_uri": "https://localhost:8080/"
        },
        "id": "hmoC3lKYxlom",
        "outputId": "534193ef-316b-4a55-992d-c7370a3d5fed"
      },
      "execution_count": 35,
      "outputs": [
        {
          "output_type": "stream",
          "name": "stdout",
          "text": [
            "Length of the segment: 5.0\n",
            "Slope of the segment: 0.75\n"
          ]
        }
      ]
    },
    {
      "cell_type": "code",
      "source": [
        "pt1 = Point(4, 3)\n",
        "pt2 = Point()\n",
        "s = Segment(pt1, pt2)\n",
        "\n",
        "print(\"Length - \", s.length())\n",
        "print(\"Slope - \", s.slope())"
      ],
      "metadata": {
        "colab": {
          "base_uri": "https://localhost:8080/"
        },
        "id": "xRl6rFi0qm6f",
        "outputId": "ab2648da-ec12-4ce6-f174-c0e4c4625fa8"
      },
      "execution_count": 34,
      "outputs": [
        {
          "output_type": "stream",
          "name": "stdout",
          "text": [
            "Length -  5.0\n",
            "Slope -  0.75\n"
          ]
        }
      ]
    }
  ]
}