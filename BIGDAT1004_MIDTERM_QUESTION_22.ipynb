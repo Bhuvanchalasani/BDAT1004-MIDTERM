{
  "nbformat": 4,
  "nbformat_minor": 0,
  "metadata": {
    "colab": {
      "provenance": [],
      "gpuType": "T4"
    },
    "kernelspec": {
      "name": "python3",
      "display_name": "Python 3"
    },
    "language_info": {
      "name": "python"
    },
    "accelerator": "GPU"
  },
  "cells": [
    {
      "cell_type": "markdown",
      "source": [
        "# Question 22"
      ],
      "metadata": {
        "id": "eEAITFXz_enh"
      }
    },
    {
      "cell_type": "code",
      "execution_count": 1,
      "metadata": {
        "colab": {
          "base_uri": "https://localhost:8080/"
        },
        "id": "nIGJ4tii-4oY",
        "outputId": "ea3bf5cf-671d-4cec-f45b-d609624d44ce"
      },
      "outputs": [
        {
          "output_type": "stream",
          "name": "stdout",
          "text": [
            "+----+\n",
            "| ID |\n",
            "+----+\n",
            "| 2  |\n",
            "| 4  |\n",
            "+----+\n",
            "\n",
            "Explanation:\n",
            "In 2015-01-02, the temperature was higher than the previous day (10 -> 25).\n",
            "In 2015-01-04, the temperature was higher than the previous day (20 -> 30).\n"
          ]
        }
      ],
      "source": [
        "import sqlite3\n",
        "\n",
        "# Weather data entries\n",
        "weather_entries = [\n",
        "    (1, '2015-01-01', 10),\n",
        "    (2, '2015-01-02', 25),\n",
        "    (3, '2015-01-03', 20),\n",
        "    (4, '2015-01-04', 30)\n",
        "]\n",
        "\n",
        "# Function to create database and insert entries\n",
        "def create_database():\n",
        "    conn = sqlite3.connect('temp_data11.db')\n",
        "    cur = conn.cursor()\n",
        "\n",
        "    # Create TemperatureRecords table if not exists\n",
        "    cur.execute('''\n",
        "        CREATE TABLE IF NOT EXISTS TemperatureRecords (\n",
        "            record_id INTEGER PRIMARY KEY,\n",
        "            date TEXT,\n",
        "            temperature INTEGER\n",
        "        )\n",
        "    ''')\n",
        "\n",
        "    # Insert weather entries into TemperatureRecords\n",
        "    cur.executemany('''\n",
        "        INSERT INTO TemperatureRecords (record_id, date, temperature)\n",
        "        VALUES (?, ?, ?)\n",
        "    ''', weather_entries)\n",
        "\n",
        "    conn.commit()\n",
        "    conn.close()\n",
        "\n",
        "# Function to fetch days with higher temperatures\n",
        "def get_days_with_increase():\n",
        "    conn = sqlite3.connect('temp_data11.db')\n",
        "    cur = conn.cursor()\n",
        "\n",
        "    # SQL query to find days with higher temperatures\n",
        "    sql = \"\"\"\n",
        "        SELECT current_day.record_id, current_day.date, current_day.temperature, previous_day.temperature\n",
        "        FROM TemperatureRecords current_day\n",
        "        JOIN TemperatureRecords previous_day\n",
        "        ON DATE(current_day.date, '-1 day') = previous_day.date\n",
        "        WHERE current_day.temperature > previous_day.temperature\n",
        "    \"\"\"\n",
        "\n",
        "    cur.execute(sql)\n",
        "    increased_temp_days = cur.fetchall()\n",
        "\n",
        "    cur.close()\n",
        "    conn.close()\n",
        "\n",
        "    return increased_temp_days\n",
        "\n",
        "# Create database and retrieve days with higher temperatures\n",
        "create_database()\n",
        "days_with_higher_temps = get_days_with_increase()\n",
        "\n",
        "# Print the output in tabular form with IDs only\n",
        "print(\"+----+\")\n",
        "print(\"| ID |\")\n",
        "print(\"+----+\")\n",
        "for day in days_with_higher_temps:\n",
        "    print(f\"| {day[0]:<2} |\")\n",
        "print(\"+----+\")\n",
        "\n",
        "# Print the explanation using data from the database with dates and temperature changes\n",
        "print(\"\\nExplanation:\")\n",
        "for day in days_with_higher_temps:\n",
        "    print(f\"In {day[1]}, the temperature was higher than the previous day ({day[3]} -> {day[2]}).\")\n"
      ]
    },
    {
      "cell_type": "markdown",
      "source": [],
      "metadata": {
        "id": "BZzOqE9b_dmY"
      }
    }
  ]
}